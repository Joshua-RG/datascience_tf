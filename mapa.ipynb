{
 "cells": [
  {
   "cell_type": "code",
   "execution_count": 1,
   "metadata": {},
   "outputs": [],
   "source": [
    "import pandas as pd\n",
    "\n",
    "\n",
    "import plotly.graph_objs as go\n",
    "from plotly.offline import plot\n",
    "\n"
   ]
  },
  {
   "cell_type": "code",
   "execution_count": 2,
   "metadata": {},
   "outputs": [],
   "source": [
    "dff = pd.read_csv('dataframe_limpio.csv')"
   ]
  },
  {
   "cell_type": "code",
   "execution_count": 3,
   "metadata": {},
   "outputs": [
    {
     "data": {
      "text/plain": [
       "'heatmap_dislikes.html'"
      ]
     },
     "execution_count": 3,
     "metadata": {},
     "output_type": "execute_result"
    }
   ],
   "source": [
    "\n",
    "\n",
    "\n",
    "\n",
    "# Configuramos los datos del mapa de calor de vistas\n",
    "data_views = dict(\n",
    "    type='choropleth',\n",
    "    colorscale='Blues', \n",
    "    reversescale=False,\n",
    "    locations=dff['state'],\n",
    "    locationmode=\"USA-states\",\n",
    "    z=dff['views'],\n",
    "    text=dff['state'],\n",
    "    colorbar=dict(title='Vistas por Estado', tickprefix='Vistas: ', tickformat=','),\n",
    ")\n",
    "\n",
    "# Configuramos el diseño del mapa de calor de vistas\n",
    "layout_views = dict(\n",
    "    title='Choropleth Map de Vistas por Estado (EE. UU.)',\n",
    "    geo=dict(scope='usa', showlakes=True, lakecolor='rgb(85,173,240)'),\n",
    ")\n",
    "\n",
    "# Creamos el objeto choromap de vistas\n",
    "heatmap_views = go.Figure(data=[data_views], layout=layout_views)\n",
    "\n",
    "# Guardamos el mapa de calor de vistas en un archivo HTML\n",
    "plot(heatmap_views, filename='heatmap_views.html', auto_open=False)\n",
    "\n",
    "# Configuramos los datos del mapa de calor de 'me gusta'\n",
    "data_likes = dict(\n",
    "    type='choropleth',\n",
    "    colorscale='Greens',  # Cambiado a la escala de colores Greens\n",
    "    reversescale=False,\n",
    "    locations=dff['state'],\n",
    "    locationmode=\"USA-states\",\n",
    "    z=dff['likes'],\n",
    "    text=dff['state'],\n",
    "    colorbar=dict(title='Me gusta por Estado', tickprefix='Me gusta: ', tickformat=','),\n",
    ")\n",
    "\n",
    "# Configuramos el diseño del mapa de calor de 'me gusta'\n",
    "layout_likes = dict(\n",
    "    title='Choropleth Map de Me gusta por Estado (EE. UU.)',\n",
    "    geo=dict(scope='usa', showlakes=True, lakecolor='rgb(50,240,50)'),\n",
    ")\n",
    "\n",
    "# Creamos el objeto choromap de 'me gusta'\n",
    "heatmap_likes = go.Figure(data=[data_likes], layout=layout_likes)\n",
    "\n",
    "# Guardamos el mapa de calor de 'me gusta' en un archivo HTML\n",
    "plot(heatmap_likes, filename='heatmap_likes.html', auto_open=False)\n",
    "\n",
    "# Configuramos los datos del mapa de calor de 'no me gusta'\n",
    "data_dislikes = dict(\n",
    "    type='choropleth',\n",
    "    colorscale='Reds',  \n",
    "    reversescale=False,\n",
    "    locations=dff['state'],\n",
    "    locationmode=\"USA-states\",\n",
    "    z=dff['dislikes'],\n",
    "    text=dff['state'],\n",
    "    colorbar=dict(title='No me gusta por Estado', tickprefix='No me gusta: ', tickformat=','),\n",
    ")\n",
    "\n",
    "# Configuramos el diseño del mapa de calor de 'no me gusta'\n",
    "layout_dislikes = dict(\n",
    "    title='Choropleth Map de No me gusta por Estado (EE. UU.)',\n",
    "    geo=dict(scope='usa', showlakes=True, lakecolor='rgb(200,30,30)'),\n",
    ")\n",
    "\n",
    "# Creamos el objeto choromap de 'no me gusta'\n",
    "heatmap_dislikes = go.Figure(data=[data_dislikes], layout=layout_dislikes)\n",
    "\n",
    "# Guardamos el mapa de calor de 'no me gusta' en un archivo HTML\n",
    "plot(heatmap_dislikes, filename='heatmap_dislikes.html', auto_open=False)"
   ]
  }
 ],
 "metadata": {
  "kernelspec": {
   "display_name": "Python 3",
   "language": "python",
   "name": "python3"
  },
  "language_info": {
   "codemirror_mode": {
    "name": "ipython",
    "version": 3
   },
   "file_extension": ".py",
   "mimetype": "text/x-python",
   "name": "python",
   "nbconvert_exporter": "python",
   "pygments_lexer": "ipython3",
   "version": "3.12.0"
  }
 },
 "nbformat": 4,
 "nbformat_minor": 2
}
